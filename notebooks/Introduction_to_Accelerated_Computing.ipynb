{
  "nbformat": 4,
  "nbformat_minor": 0,
  "metadata": {
    "colab": {
      "provenance": [],
      "gpuType": "T4"
    },
    "kernelspec": {
      "name": "julia",
      "display_name": "Julia"
    },
    "language_info": {
      "name": "julia"
    },
    "accelerator": "GPU"
  },
  "cells": [
    {
      "cell_type": "markdown",
      "source": [
        "# Exercise: Introduction to accelerated computing\n",
        "\n",
        "## AXPY with KernelAbstractions\n",
        "\n",
        "KernelAbstractions is a light-weight domain-specific language that enables you to write portable kernels.\n",
        "\n",
        "It allows us to target many different backend packages:\n",
        "\n",
        "- CUDA.jl\n",
        "- Metal.jl\n",
        "- OneAPI.jl\n",
        "- AMDGPU.jl\n",
        "\n",
        "And it provides a fallback implementation for CPU"
      ],
      "metadata": {
        "id": "6Dhs2RSWgbCY"
      }
    },
    {
      "cell_type": "code",
      "execution_count": 21,
      "metadata": {
        "colab": {
          "base_uri": "https://localhost:8080/"
        },
        "id": "N9xYGA7_gR5F",
        "outputId": "7c29fb9f-33bd-413f-8711-4da96fcceeb4"
      },
      "outputs": [
        {
          "output_type": "stream",
          "name": "stderr",
          "text": [
            "\u001b[32m\u001b[1m  Activating\u001b[22m\u001b[39m project at `/content/@colab`\n",
            "\u001b[32m\u001b[1m   Resolving\u001b[22m\u001b[39m package versions...\n",
            "\u001b[32m\u001b[1m  No Changes\u001b[22m\u001b[39m to `/content/@colab/Project.toml`\n",
            "\u001b[32m\u001b[1m  No Changes\u001b[22m\u001b[39m to `/content/@colab/Manifest.toml`\n"
          ]
        }
      ],
      "source": [
        "import Pkg\n",
        "Pkg.activate(\"@colab\")\n",
        "Pkg.add([\n",
        "    \"CUDA\",\n",
        "    \"KernelAbstractions\",\n",
        "    \"LinearAlgebra\",\n",
        "    \"Random\",\n",
        "    \"BenchmarkTools\",\n",
        "    \"Adapt\",\n",
        "    \"OffsetArrays\",\n",
        "    \"CairoMakie\",\n",
        "    \"OrdinaryDiffEqTsit5\",\n",
        "])"
      ]
    },
    {
      "cell_type": "code",
      "source": [
        "import CUDA"
      ],
      "metadata": {
        "id": "dUix-Txhg8nj"
      },
      "execution_count": 22,
      "outputs": []
    },
    {
      "cell_type": "markdown",
      "source": [
        "The AXPY kernel is defined as\n",
        "\n",
        "$Y = Y + a*X$\n",
        "\n",
        "Vary the `M` below."
      ],
      "metadata": {
        "id": "m1zPm9J5hDbR"
      }
    },
    {
      "cell_type": "code",
      "source": [
        "M = 1024"
      ],
      "metadata": {
        "colab": {
          "base_uri": "https://localhost:8080/"
        },
        "id": "mb6h7nZ6hF3W",
        "outputId": "bb50017c-1257-42d1-e90d-9bdfbf013fdd"
      },
      "execution_count": 23,
      "outputs": [
        {
          "output_type": "execute_result",
          "data": {
            "text/plain": [
              "1024"
            ]
          },
          "metadata": {},
          "execution_count": 23
        }
      ]
    },
    {
      "cell_type": "code",
      "source": [
        "function axpy_serial!(Y, a, X)\n",
        "\tfor i in eachindex(Y, X)\n",
        "\t\t# TODO: Implement\n",
        "\tend\n",
        "\treturn nothing\n",
        "end"
      ],
      "metadata": {
        "colab": {
          "base_uri": "https://localhost:8080/"
        },
        "id": "iiwCsBRIhHx3",
        "outputId": "c6dacdaf-0ff9-4fec-afcb-f8db1976d7a0"
      },
      "execution_count": 24,
      "outputs": [
        {
          "output_type": "execute_result",
          "data": {
            "text/plain": [
              "axpy_serial! (generic function with 1 method)"
            ]
          },
          "metadata": {},
          "execution_count": 24
        }
      ]
    },
    {
      "cell_type": "code",
      "source": [
        "using KernelAbstractions"
      ],
      "metadata": {
        "id": "Xp6g3r5BkcjK"
      },
      "execution_count": 25,
      "outputs": []
    },
    {
      "cell_type": "code",
      "source": [
        "@kernel function axpy_kernel!(Y, a, X)\n",
        "\t# implement me!\n",
        "end"
      ],
      "metadata": {
        "id": "8glFFOsZhKsk"
      },
      "execution_count": 26,
      "outputs": []
    },
    {
      "cell_type": "code",
      "source": [
        "# Creating a wrapper kernel for launching with error checks\n",
        "function axpy_ka!(Y, a, X)\n",
        "    if length(Y) != length(X)\n",
        "\t\terror(\"Arrays disagree in length\")\n",
        "        return nothing\n",
        "    end\n",
        "    backend = KernelAbstractions.get_backend(Y)\n",
        "    kernel! = axpy_kernel!(backend)\n",
        "    kernel!(Y, a, X, ndrange = size(Y))\n",
        "\tKernelAbstractions.synchronize(backend)\n",
        "    return\n",
        "end"
      ],
      "metadata": {
        "colab": {
          "base_uri": "https://localhost:8080/"
        },
        "id": "PqbPfHlfhMQ6",
        "outputId": "7cf4a5f6-9dde-4c89-e70c-e0413f91f3d4"
      },
      "execution_count": 27,
      "outputs": [
        {
          "output_type": "execute_result",
          "data": {
            "text/plain": [
              "axpy_ka! (generic function with 1 method)"
            ]
          },
          "metadata": {},
          "execution_count": 27
        }
      ]
    },
    {
      "cell_type": "markdown",
      "source": [
        "### Diffusion kernel"
      ],
      "metadata": {
        "id": "eRminVgPhOvw"
      }
    },
    {
      "cell_type": "code",
      "source": [
        "using OffsetArrays\n",
        "using CairoMakie"
      ],
      "metadata": {
        "id": "olT4DFprhRtu"
      },
      "execution_count": 28,
      "outputs": []
    },
    {
      "cell_type": "code",
      "source": [
        "using OrdinaryDiffEqTsit5"
      ],
      "metadata": {
        "id": "-VVpHfV7heQC"
      },
      "execution_count": 29,
      "outputs": []
    },
    {
      "cell_type": "code",
      "source": [
        "a  = 0.01\n",
        "dx = 0.01  # x-grid spacing\n",
        "dy = 0.01  # y-grid spacing"
      ],
      "metadata": {
        "colab": {
          "base_uri": "https://localhost:8080/"
        },
        "id": "Z_qqDM7ihf4S",
        "outputId": "d417157e-6eae-4d43-8b9d-c14d75bd508a"
      },
      "execution_count": 30,
      "outputs": [
        {
          "output_type": "execute_result",
          "data": {
            "text/plain": [
              "0.01"
            ]
          },
          "metadata": {},
          "execution_count": 30
        }
      ]
    },
    {
      "cell_type": "code",
      "source": [
        "t_final = 3.0"
      ],
      "metadata": {
        "colab": {
          "base_uri": "https://localhost:8080/"
        },
        "id": "xkHvLgyQhiO0",
        "outputId": "9cff2f43-ddd0-407e-965f-4348b53b963e"
      },
      "execution_count": 31,
      "outputs": [
        {
          "output_type": "execute_result",
          "data": {
            "text/plain": [
              "3.0"
            ]
          },
          "metadata": {},
          "execution_count": 31
        }
      ]
    },
    {
      "cell_type": "code",
      "source": [
        "N = 64"
      ],
      "metadata": {
        "colab": {
          "base_uri": "https://localhost:8080/"
        },
        "id": "51uOJWyshjvv",
        "outputId": "f37c680d-0e1d-47f5-bd19-06fe972f3f16"
      },
      "execution_count": 32,
      "outputs": [
        {
          "output_type": "execute_result",
          "data": {
            "text/plain": [
              "64"
            ]
          },
          "metadata": {},
          "execution_count": 32
        }
      ]
    },
    {
      "cell_type": "markdown",
      "source": [
        "Implement a kernel that solves the 2D Diffusion Equation.\n",
        "\n",
        "$\\frac{\\partial U}{\\partial t} = a * (\\frac{\\partial^2 U}{\\partial x^2} + \\frac{\\partial^2 U}{\\partial y^2})$\n",
        "\n",
        "Using a finite-difference approximation:\n",
        "\n",
        "$dU = a * (\\frac{U[i+1, j] - 2U[i,j] + U[i-1,j]}{dx^2} + \\frac{U[i, j+1] - 2U[i,j] + U[i,j-1]}{dy^2} )$\n",
        "\n",
        "\n",
        "The code below implements the harness using OffsetArrays and wrap around boundary conditions to make your life easier."
      ],
      "metadata": {
        "id": "qGjCiKArhnJh"
      }
    },
    {
      "cell_type": "markdown",
      "source": [
        "Remember yesterdays serial version.\n",
        "\n",
        "```julia\n",
        "for i in 1:N, j in 1:M\n",
        "\tdu[i, j] = a * (\n",
        "\t\t(u[i + 1, j] - 2 * u[i, j] + u[i - 1, j]) / dx^2 +\n",
        "\t\t(u[i, j + 1] - 2 * u[i, j] + u[i, j - 1]) / dy^2\n",
        "\t)\n",
        "end\n",
        "```"
      ],
      "metadata": {
        "id": "Jbsj0o4Th0IH"
      }
    },
    {
      "cell_type": "code",
      "source": [
        "@kernel function heat_2D_kernel!(du, @Const(u), a, dx, dy)\n",
        "\t# implement me\n",
        "end"
      ],
      "metadata": {
        "colab": {
          "base_uri": "https://localhost:8080/"
        },
        "id": "txy6FRsah2cn",
        "outputId": "5848654b-15d0-4b7b-f331-448f4885e297"
      },
      "execution_count": 33,
      "outputs": [
        {
          "output_type": "execute_result",
          "data": {
            "text/plain": [
              "heat_2D_kernel! (generic function with 4 methods)"
            ]
          },
          "metadata": {},
          "execution_count": 33
        }
      ]
    },
    {
      "cell_type": "code",
      "source": [
        "function heat_2D!(du, u, (a, dx, dy, xs, ys), t)\n",
        "\t  N, M = size(u)\n",
        "    N = N - 2\n",
        "    M = M - 2\n",
        "\n",
        "\t  # update boundary condition (wrap around)\n",
        "    u[1, :]   .= u[N+1, :]\n",
        "    u[N+2, :] .= u[2, :]\n",
        "    u[:, 1]   .= u[:, N+1]\n",
        "    u[:, N+2] .= u[:, 1]\n",
        "\n",
        "    # OffsetArray and CUDA don't compose neatly :/\n",
        "    u = OffsetArray(u, xs, ys)\n",
        "    du = OffsetArray(u, xs, ys)\n",
        "\n",
        "    kernel = heat_2D_kernel!(get_backend(du))\n",
        "    kernel(du, u, a, dx, dy; ndrange=(N,M))\n",
        "\n",
        "\treturn nothing\n",
        "end"
      ],
      "metadata": {
        "colab": {
          "base_uri": "https://localhost:8080/"
        },
        "id": "4qtZV0a7h3G3",
        "outputId": "7c745864-86a7-4eab-e0f6-0022940e8903"
      },
      "execution_count": 58,
      "outputs": [
        {
          "output_type": "execute_result",
          "data": {
            "text/plain": [
              "heat_2D! (generic function with 1 method)"
            ]
          },
          "metadata": {},
          "execution_count": 58
        }
      ]
    },
    {
      "cell_type": "code",
      "source": [
        "backend = CUDA.CUDABackend()"
      ],
      "metadata": {
        "colab": {
          "base_uri": "https://localhost:8080/"
        },
        "id": "SqaD4HOQkuMj",
        "outputId": "c17a9d91-ce17-4508-d8f6-f809370912fe"
      },
      "execution_count": 40,
      "outputs": [
        {
          "output_type": "execute_result",
          "data": {
            "text/plain": [
              "CUDA.CUDAKernels.CUDABackend(false, false)"
            ]
          },
          "metadata": {},
          "execution_count": 40
        }
      ]
    },
    {
      "cell_type": "code",
      "source": [
        "begin\n",
        "\txs = 0:(N+1)\n",
        "\tys = 0:(N+1)\n",
        "\n",
        "\tu₀ = KernelAbstractions.zeros(\n",
        "\t\t\tbackend, Float32, N+2, N+2)\n",
        "\tu₀[16:32, 16:32] .= 5\n",
        "\n",
        "\tnothing\n",
        "end"
      ],
      "metadata": {
        "id": "thcqwqLVh6PT"
      },
      "execution_count": 49,
      "outputs": []
    },
    {
      "cell_type": "code",
      "source": [
        "prob = ODEProblem(heat_2D!, u₀, (0.0, t_final), (a, dx, dy, xs, ys));"
      ],
      "metadata": {
        "id": "72cx9o6gh7su"
      },
      "execution_count": 59,
      "outputs": []
    },
    {
      "cell_type": "code",
      "source": [
        "CUDA.allowscalar(false)"
      ],
      "metadata": {
        "id": "CE1EyZpJnjP6"
      },
      "execution_count": 56,
      "outputs": []
    },
    {
      "cell_type": "code",
      "source": [
        "sol = solve(prob, Tsit5(), saveat=0.2);"
      ],
      "metadata": {
        "id": "r-yK97Izh8vF"
      },
      "execution_count": 60,
      "outputs": []
    },
    {
      "cell_type": "code",
      "source": [
        "let\n",
        "\tidx = Observable(1)\n",
        "\tdata = @lift Array(parent(sol.u[$idx]))\n",
        "\tfig, ax, hm = heatmap(xs, ys, data)\n",
        "\n",
        "\tMakie.Record(fig, 1:length(sol.u), framerate=5) do i\n",
        "\t    idx[] = i\n",
        "\tend\n",
        "end"
      ],
      "metadata": {
        "colab": {
          "base_uri": "https://localhost:8080/",
          "height": 470
        },
        "id": "3vn20icWh-Q-",
        "outputId": "8e6c4bb0-0db6-4e45-c999-20194ab5182b"
      },
      "execution_count": 44,
      "outputs": [
        {
          "output_type": "execute_result",
          "data": {
            "text/plain": [
              "VideoStream(Base.PipeEndpoint(RawFD(95) open, 0 bytes waiting), Process(setenv(`\u001b[4m/root/.julia/artifacts/0319290fc39dd3bdcb6fb33a4f25d7b8c511c762/bin/ffmpeg\u001b[24m \u001b[4m-y\u001b[24m \u001b[4m-loglevel\u001b[24m \u001b[4mquiet\u001b[24m \u001b[4m-threads\u001b[24m \u001b[4m2\u001b[24m \u001b[4m-framerate\u001b[24m \u001b[4m5\u001b[24m \u001b[4m-pixel_format\u001b[24m \u001b[4mrgb24\u001b[24m \u001b[4m-f\u001b[24m \u001b[4mrawvideo\u001b[24m \u001b[4m-s:v\u001b[24m \u001b[4m1200x900\u001b[24m \u001b[4m-r\u001b[24m \u001b[4m5\u001b[24m \u001b[4m-i\u001b[24m \u001b[4mpipe:0\u001b[24m \u001b[4m-vf\u001b[24m \u001b[4mvflip\u001b[24m \u001b[4m-profile:v\u001b[24m \u001b[4mhigh422\u001b[24m \u001b[4m-crf\u001b[24m \u001b[4m20\u001b[24m \u001b[4m-preset\u001b[24m \u001b[4mslow\u001b[24m \u001b[4m-c:v\u001b[24m \u001b[4mlibx264\u001b[24m \u001b[4m-pix_fmt\u001b[24m \u001b[4myuv420p\u001b[24m \u001b[4m-an\u001b[24m \u001b[4m'/tmp/jl_KeUwSN/##video#302.mp4'\u001b[24m`,[\"ENV=/root/.bashrc\", \"PATH=/root/.julia/artifacts/b8a470e4553346122607f94ec60d83c77f061cd6/bin:/root/.julia/artifacts/020f522505f193c968b0a9d6199f7de2c4748cd2/bin:/root/.julia/artifacts/cc3c4d36f2cf650d73959f9d7dec5cd0630bfb01/bin:/root/.julia/artifacts/258f7271ca555a7634c0fe8b8508f69334673a89/bin:/root/.julia/artifacts/c8a20a2030f10b70947d8d2a6bff7f8b5f343fe9/bin:/root/.julia/artifacts/100f53309066fcdee2a61044b118ed3342683b67/bin:/root/.julia/artifacts/bdb4015047b09c6ac5002f73dfd5be8ddf59189b/bin:/root/.julia/artifacts/c9533bea1f28a1adea8cb096009f360534f7ba90/bin:/root/.julia/artifacts/48d69f95e00f33788b0bddee11ce58dd15ba21e5/bin:/root/.julia/artifacts/0319290fc39dd3bdcb6fb33a4f25d7b8c511c762/bin:/opt/bin:/usr/local/nvidia/bin:/usr/local/cuda/bin:/usr/local/sbin:/usr/local/bin:/usr/sbin:/usr/bin:/sbin:/bin:/tools/node/bin:/tools/google-cloud-sdk/bin\", \"NV_LIBNCCL_DEV_PACKAGE=libnccl-dev=2.22.3-1+cuda12.5\", \"NV_LIBNCCL_PACKAGE_VERSION=2.22.3-1\", \"UV_INSTALL_DIR=/usr/local/bin\", \"COLAB_JUPYTER_IP=172.28.0.12\", \"NV_LIBCUBLAS_PACKAGE_NAME=libcublas-12-5\", \"NV_NVPROF_VERSION=12.5.82-1\", \"NVIDIA_DRIVER_CAPABILITIES=compute,utility\", \"UV_BUILD_CONSTRAINT=\"  …  \"FONTCONFIG_PATH=/root/.julia/artifacts/258f7271ca555a7634c0fe8b8508f69334673a89/etc/fonts\", \"NV_LIBCUBLAS_VERSION=12.5.3.2-1\", \"PYDEVD_USE_FRAME_EVAL=NO\", \"_PYVIZ_COMMS_INSTALLED=1\", \"COLAB_LANGUAGE_SERVER_PROXY_LSP_DIRS=/datalab/web/pyright/typeshed-fallback/stdlib,/usr/local/lib/python3.10/dist-packages\", \"NV_CUDA_NSIGHT_COMPUTE_DEV_PACKAGE=cuda-nsight-compute-12-5=12.5.1-1\", \"COLAB_FILE_HANDLER_ADDR=localhost:3453\", \"NV_CUDNN_PACKAGE_DEV=libcudnn9-dev-cuda-12=9.2.1.18-1\", \"OPENBLAS_MAIN_FREE=1\", \"MODEL_PROXY_HOST=https://mp.kaggle.net\"]), ProcessRunning), CairoMakie.Screen{CairoMakie.IMAGE}(Scene(1 children, 0 plots), Cairo.CairoSurfaceImage{ColorTypes.ARGB32}(Ptr{Nothing} @0x000000004b6da510, 1200.0, 900.0, ColorTypes.ARGB32[ARGB32(1.0N0f8, 1.0N0f8, 1.0N0f8, 1.0N0f8) ARGB32(1.0N0f8, 1.0N0f8, 1.0N0f8, 1.0N0f8) … ARGB32(1.0N0f8, 1.0N0f8, 1.0N0f8, 1.0N0f8) ARGB32(1.0N0f8, 1.0N0f8, 1.0N0f8, 1.0N0f8); ARGB32(1.0N0f8, 1.0N0f8, 1.0N0f8, 1.0N0f8) ARGB32(1.0N0f8, 1.0N0f8, 1.0N0f8, 1.0N0f8) … ARGB32(1.0N0f8, 1.0N0f8, 1.0N0f8, 1.0N0f8) ARGB32(1.0N0f8, 1.0N0f8, 1.0N0f8, 1.0N0f8); … ; ARGB32(1.0N0f8, 1.0N0f8, 1.0N0f8, 1.0N0f8) ARGB32(1.0N0f8, 1.0N0f8, 1.0N0f8, 1.0N0f8) … ARGB32(1.0N0f8, 1.0N0f8, 1.0N0f8, 1.0N0f8) ARGB32(1.0N0f8, 1.0N0f8, 1.0N0f8, 1.0N0f8); ARGB32(1.0N0f8, 1.0N0f8, 1.0N0f8, 1.0N0f8) ARGB32(1.0N0f8, 1.0N0f8, 1.0N0f8, 1.0N0f8) … ARGB32(1.0N0f8, 1.0N0f8, 1.0N0f8, 1.0N0f8) ARGB32(1.0N0f8, 1.0N0f8, 1.0N0f8, 1.0N0f8)]), Cairo.CairoContext(Ptr{Nothing} @0x000000004debffd0, Cairo.CairoSurfaceImage{ColorTypes.ARGB32}(Ptr{Nothing} @0x000000004b6da510, 1200.0, 900.0, ColorTypes.ARGB32[ARGB32(1.0N0f8, 1.0N0f8, 1.0N0f8, 1.0N0f8) ARGB32(1.0N0f8, 1.0N0f8, 1.0N0f8, 1.0N0f8) … ARGB32(1.0N0f8, 1.0N0f8, 1.0N0f8, 1.0N0f8) ARGB32(1.0N0f8, 1.0N0f8, 1.0N0f8, 1.0N0f8); ARGB32(1.0N0f8, 1.0N0f8, 1.0N0f8, 1.0N0f8) ARGB32(1.0N0f8, 1.0N0f8, 1.0N0f8, 1.0N0f8) … ARGB32(1.0N0f8, 1.0N0f8, 1.0N0f8, 1.0N0f8) ARGB32(1.0N0f8, 1.0N0f8, 1.0N0f8, 1.0N0f8); … ; ARGB32(1.0N0f8, 1.0N0f8, 1.0N0f8, 1.0N0f8) ARGB32(1.0N0f8, 1.0N0f8, 1.0N0f8, 1.0N0f8) … ARGB32(1.0N0f8, 1.0N0f8, 1.0N0f8, 1.0N0f8) ARGB32(1.0N0f8, 1.0N0f8, 1.0N0f8, 1.0N0f8); ARGB32(1.0N0f8, 1.0N0f8, 1.0N0f8, 1.0N0f8) ARGB32(1.0N0f8, 1.0N0f8, 1.0N0f8, 1.0N0f8) … ARGB32(1.0N0f8, 1.0N0f8, 1.0N0f8, 1.0N0f8) ARGB32(1.0N0f8, 1.0N0f8, 1.0N0f8, 1.0N0f8)]), Ptr{Nothing} @0x000000004dcb5710), 2.0, 6, false, CairoMakie.ScreenConfig(2.0, 0.75, :best, false, false, nothing)), Makie.TickController(Observable(Makie.Tick(Makie.OneTimeRenderTick, 16, 3.2, 0.2)), 17, 0.2, true, ObserverFunction defined at /root/.julia/packages/Makie/4JW9B/src/ffmpeg-util.jl:199 operating on Observable(Tick(OneTimeRenderTick, 16, 3.2, 0.2))), ColorTypes.RGB{FixedPointNumbers.N0f8}[RGB(1.0, 1.0, 1.0) RGB(1.0, 1.0, 1.0) … RGB(1.0, 1.0, 1.0) RGB(1.0, 1.0, 1.0); RGB(1.0, 1.0, 1.0) RGB(1.0, 1.0, 1.0) … RGB(1.0, 1.0, 1.0) RGB(1.0, 1.0, 1.0); … ; RGB(1.0, 1.0, 1.0) RGB(1.0, 1.0, 1.0) … RGB(1.0, 1.0, 1.0) RGB(1.0, 1.0, 1.0); RGB(1.0, 1.0, 1.0) RGB(1.0, 1.0, 1.0) … RGB(1.0, 1.0, 1.0) RGB(1.0, 1.0, 1.0)], \"/tmp/jl_KeUwSN/##video#302.mp4\", Makie.VideoStreamOptions(\"mp4\", 5, 20, \"high422\", \"yuv420p\", 0, \"quiet\", \"pipe:0\", true))"
            ],
            "text/html": [
              "<video autoplay controls loop width=\"600\" height=\"450\"><source src=\"data:video/x-m4v;base64,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\" type=\"video/mp4\"></video>"
            ]
          },
          "metadata": {},
          "execution_count": 44
        }
      ]
    }
  ]
}